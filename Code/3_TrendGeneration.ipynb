{
 "cells": [
  {
   "cell_type": "code",
   "execution_count": null,
   "metadata": {},
   "outputs": [],
   "source": [
    "''' This particular notebook deals with creating the plots for the trends between the hyperbola fitting \n",
    "parameter k, and the values collected from the survey results. It reads the Patience Measures and the \n",
    "collected Participant information, and draws its plots to the Trends subfolder.\n",
    "Created by: Aishwarya Seth\n",
    "Created on: April 16th, 2022'''"
   ]
  },
  {
   "cell_type": "code",
   "execution_count": 1,
   "metadata": {},
   "outputs": [],
   "source": [
    "# All relevant imports\n",
    "import pandas as pd\n",
    "import numpy as np\n",
    "import glob as glob\n",
    "import matplotlib.pyplot as plt\n",
    "from scipy import optimize\n",
    "from matplotlib.backends.backend_pdf import PdfPages\n"
   ]
  },
  {
   "cell_type": "code",
   "execution_count": 2,
   "metadata": {},
   "outputs": [],
   "source": [
    "# Read in the bootstrapped estimates\n",
    "files = glob.glob(\"./ParticipantEstimates/*\")"
   ]
  },
  {
   "cell_type": "code",
   "execution_count": 3,
   "metadata": {},
   "outputs": [],
   "source": [
    "df_info = pd.read_csv('./../Combined_Data/ParticipantInfo.csv')"
   ]
  },
  {
   "cell_type": "code",
   "execution_count": 4,
   "metadata": {},
   "outputs": [],
   "source": [
    "df_estimates = pd.read_csv('./PatienceMeasures.csv')"
   ]
  },
  {
   "cell_type": "code",
   "execution_count": 5,
   "metadata": {},
   "outputs": [],
   "source": [
    "# Merges together all bootstrapped estimates -- this code could be modified to generate trends on the basis \n",
    "# of these bootstrapped estimates\n",
    "df_bootstrap_estimates = pd.DataFrame()\n",
    "count = 0\n",
    "for file in files:\n",
    "    if(count == 0):\n",
    "        df_bootstrap_estimates = pd.read_csv(file)\n",
    "        count = count + 1\n",
    "    else:\n",
    "        df_bootstrap_estimates = df_bootstrap_estimates.append(pd.read_csv(file).iloc[0])"
   ]
  },
  {
   "cell_type": "code",
   "execution_count": 6,
   "metadata": {},
   "outputs": [],
   "source": [
    "# Merge together the survey results and fitting parameters\n",
    "merge = pd.merge(df_info, df_estimates, on = 'RefID')\n",
    "merge['Degree'] = pd.Categorical(merge['Degree'], [\"Undergraduate\", \"Masters\", \"PhD\"])"
   ]
  },
  {
   "cell_type": "code",
   "execution_count": 7,
   "metadata": {},
   "outputs": [
    {
     "name": "stdout",
     "output_type": "stream",
     "text": [
      "   RefID  Age         Degree  Fitting_Param_k  Fitting_Param_m  \\\n",
      "1      2   20  Undergraduate     7.157136e-03     8.345341e-01   \n",
      "5      6   20  Undergraduate     1.040699e-02     5.271457e-01   \n",
      "7      8   20  Undergraduate     5.366571e-02     7.620462e-01   \n",
      "9     10   20  Undergraduate     9.956312e-02     1.000000e+00   \n",
      "0      1   21  Undergraduate     1.789781e-02     4.109163e-01   \n",
      "2      3   22  Undergraduate     1.000000e+00     1.000000e+00   \n",
      "8      9   26        Masters     5.065275e-02     1.000000e+00   \n",
      "4      5   23            PhD     3.770000e-15     2.390000e-21   \n",
      "6      7   23            PhD     1.870000e-10     1.222454e-01   \n",
      "3      4   24            PhD     6.211139e-02     6.711203e-01   \n",
      "\n",
      "   Fitting_Param_Beta  Fitting_Param_Delta  \n",
      "1            0.007910             0.007910  \n",
      "5            0.010393             0.010392  \n",
      "7            0.164544             0.004983  \n",
      "9            0.040283             0.119589  \n",
      "0            0.014134             0.014134  \n",
      "2            1.000000             0.756759  \n",
      "8            0.042051             0.042051  \n",
      "4           -0.019972            -0.019975  \n",
      "6           -0.001070            -0.001065  \n",
      "3            0.293240             0.003116  \n"
     ]
    }
   ],
   "source": [
    "merge = merge.sort_values(by = ['Degree', 'Age'])\n",
    "print(merge[['RefID','Age', 'Degree', 'Fitting_Param_k', 'Fitting_Param_m', 'Fitting_Param_Beta', 'Fitting_Param_Delta']])"
   ]
  },
  {
   "cell_type": "code",
   "execution_count": 8,
   "metadata": {},
   "outputs": [],
   "source": [
    "# Merge together the survey results and bootstrapped parameters\n",
    "merge_bootstrap = pd.merge(df_info, df_bootstrap_estimates, on  = 'RefID')\n",
    "merge['Degree'] = pd.Categorical(merge['Degree'], [\"Undergraduate\", \"Masters\", \"PhD\"])"
   ]
  },
  {
   "cell_type": "code",
   "execution_count": 9,
   "metadata": {},
   "outputs": [
    {
     "name": "stdout",
     "output_type": "stream",
     "text": [
      "   Age         Degree         k_est         m_est  beta_est  delta_est\n",
      "8   26        Masters  6.412353e-02  9.933664e-01  0.062983   0.054614\n",
      "4   23            PhD  7.978094e-12  1.549603e-14 -0.033139  -0.033139\n",
      "6   23            PhD  1.414659e-03  1.043413e-01 -0.013377  -0.013377\n",
      "3   24            PhD  6.658289e-02  7.494027e-01  0.149520   0.161610\n",
      "1   20  Undergraduate  7.462654e-03  6.204357e-01 -0.002519  -0.002519\n",
      "5   20  Undergraduate  1.073694e-02  4.649686e-01 -0.000756  -0.000759\n",
      "7   20  Undergraduate  6.039526e-02  7.927935e-01  0.108516   0.108509\n",
      "9   20  Undergraduate  1.278261e-01  1.000000e+00  0.142982   0.135574\n",
      "0   21  Undergraduate  1.995619e-02  4.276109e-01  0.034176   0.030834\n",
      "2   22  Undergraduate  9.935216e-01  1.000000e+00  0.855290   0.844644\n"
     ]
    }
   ],
   "source": [
    "merge_bootstrap = merge_bootstrap.sort_values(by = ['Degree', 'Age'])\n",
    "print(merge_bootstrap[['Age', 'Degree', 'k_est', 'm_est', 'beta_est', 'delta_est']])"
   ]
  },
  {
   "cell_type": "code",
   "execution_count": 10,
   "metadata": {},
   "outputs": [],
   "source": [
    "# Definition of a linear function -- used later in the code for curve fitting\n",
    "def linear(x, m, c):\n",
    "    return (m * x + c)"
   ]
  },
  {
   "cell_type": "code",
   "execution_count": 11,
   "metadata": {},
   "outputs": [],
   "source": [
    "# Function for creating a linear trend for a given survey-obtained factor and the estimated parameter k\n",
    "# Plots created by these functions are stored in the 'Trends' folder\n",
    "def linear_fit(df, factor, parameter, bootstrap = False, condition = None, max_value = 0.1):\n",
    "    \n",
    "    # Drop NAs, if any\n",
    "    df = df.dropna(subset = [parameter, factor])\n",
    "    \n",
    "    # Create a linear fit\n",
    "    parameters, _ = optimize.curve_fit(linear, np.asarray(df[parameter]).ravel(), np.asarray(df[factor]).ravel(),  p0=[0.001, 0.001])\n",
    "    [m, c] = parameters\n",
    "    \n",
    "    # Draw the result\n",
    "    f = plt.figure(1, figsize=(10,10))\n",
    "    plt.clf()\n",
    "    plt.scatter(df[parameter], df[factor])\n",
    "    X_test = np.linspace(0, max_value, 100)\n",
    "    lin = (m * X_test + c).ravel()\n",
    "    plt.plot(X_test, lin, color=\"red\", linewidth=3)\n",
    "    \n",
    "    # Save off results\n",
    "    if(bootstrap == False):\n",
    "        if(condition == None):\n",
    "            plt.title(\"Variation of {} vs {}\".format(parameter, factor))\n",
    "            plt.savefig('./Trends/{}vs{}.jpg'.format(parameter, factor))\n",
    "        else:\n",
    "            plt.title(\"Variation of {} vs {}: {}\".format(parameter, factor, condition))\n",
    "            plt.savefig('./Trends/{}vs{}_{}.jpg'.format(parameter, factor, condition))\n",
    "    else:\n",
    "        if(condition == None):\n",
    "            plt.title(\"Variation of {} vs {}: BootstrapEstimate\".format(parameter, factor))\n",
    "            plt.savefig('./Trends/{}vs{}_BootstrapEstimate.jpg'.format(parameter, factor))\n",
    "        else:\n",
    "            plt.title(\"Variation of {} vs {}: {} (BootstrapEstimate)\".format(parameter, factor, condition))\n",
    "            plt.savefig('./Trends/{}vs{}_{}_BootstrapEstimate.jpg'.format(parameter, factor, condition))"
   ]
  },
  {
   "cell_type": "code",
   "execution_count": 12,
   "metadata": {},
   "outputs": [],
   "source": [
    "# Function for creating plots of the trends \n",
    "# Basic parameters including Degree, Age, Sleep, Stress and Happiness are scattering with the hyperbolic fit\n",
    "# parameter k. This helps identify trends and clusters (if any)\n",
    "def create_plots_fits(df, bootstrap = True, drop_condition = None):\n",
    "    \n",
    "    # Define the name of the output file based on the current condition\n",
    "    if(bootstrap == True):\n",
    "        if(drop_condition is None):\n",
    "            pp = PdfPages('./Trends/BootstrapEstimates.pdf')\n",
    "        else:\n",
    "            pp = PdfPages('./Trends/BootstrapEstimates_{}.pdf'.format(drop_condition))             \n",
    "        parameters = ['k_est'] #, 'm_est', 'beta_est', 'delta_est']\n",
    "    else:\n",
    "        if(drop_condition is None):\n",
    "            pp = PdfPages('./Trends/BasicFitEstimates.pdf')\n",
    "        else:\n",
    "            pp = PdfPages('./Trends/BasicFitEstimates_{}.pdf'.format(drop_condition))\n",
    "        parameters = ['Fitting_Param_k'] #, 'Fitting_Param_m', 'Fitting_Param_Beta', 'Fitting_Param_Delta']\n",
    "        \n",
    "    # Create scatter plots with the various factors\n",
    "    for parameter in parameters:\n",
    "        for compare_with in ['Degree', 'Age', 'Sleep', 'Stress', 'Happiness']:\n",
    "            plt.clf()\n",
    "            plt.scatter(df[compare_with], df[parameter])\n",
    "            plt.title(\"Estimate of {} vs {}\".format(compare_with, parameter))\n",
    "            pp.savefig()\n",
    "    pp.close()"
   ]
  },
  {
   "cell_type": "code",
   "execution_count": 14,
   "metadata": {},
   "outputs": [
    {
     "data": {
      "image/png": "[encoded data removed]",
      "text/plain": [
       "<Figure size 432x288 with 1 Axes>"
      ]
     },
     "metadata": {
      "needs_background": "light"
     },
     "output_type": "display_data"
    }
   ],
   "source": [
    "# Create basic plots relating k-values and the observed Happiness, Sleep and Stress values\n",
    "create_plots_fits(merge, False)\n",
    "linear_fit(merge, 'Fitting_Param_k', 'Happiness', False, None, max_value = 5)\n",
    "linear_fit(merge, 'Fitting_Param_k', 'Stress', False, None, max_value = 5)\n",
    "linear_fit(merge, 'Fitting_Param_k', 'Sleep', False, None, max_value = 10)\n"
   ]
  },
  {
   "cell_type": "code",
   "execution_count": 40,
   "metadata": {},
   "outputs": [
    {
     "data": {
      "image/png": "[encoded data removed]",
      "text/plain": [
       "<Figure size 432x288 with 1 Axes>"
      ]
     },
     "metadata": {
      "needs_background": "light"
     },
     "output_type": "display_data"
    }
   ],
   "source": [
    "# Drop the participants whose k-value is an outlier \n",
    "# 5 & 7 chose almost all 1s, and 3 chose almost all 0s during the experiment\n",
    "merge_without_outliers = merge[~merge['RefID'].isin([3, 5, 7])]\n",
    "create_plots_fits(merge_without_outliers, False, 'WithoutOutliers')\n",
    "linear_fit(merge_without_outliers, 'Fitting_Param_k', 'Happiness', False, 'WithoutOutliers',5)\n",
    "linear_fit(merge_without_outliers, 'Fitting_Param_k', 'Sleep', False, 'WithoutOutliers',10)\n",
    "linear_fit(merge_without_outliers, 'Fitting_Param_k', 'Stress', False, 'WithoutOutliers', 5)\n"
   ]
  },
  {
   "cell_type": "code",
   "execution_count": 18,
   "metadata": {},
   "outputs": [
    {
     "data": {
      "image/png": "[encoded data removed]",
      "text/plain": [
       "<Figure size 432x288 with 1 Axes>"
      ]
     },
     "metadata": {
      "needs_background": "light"
     },
     "output_type": "display_data"
    }
   ],
   "source": [
    "# Create plots corresponding to the condition that the participant is an undergraduate student\n",
    "merge_undergrads_only = merge_without_outliers[merge_without_outliers['Degree'] == \"Undergraduate\"]\n",
    "create_plots_fits(merge_undergrads_only, False, 'UndergradsOnly')\n",
    "linear_fit(merge_undergrads_only, 'Fitting_Param_k', 'Happiness', False, 'UndergradsOnly', 5)\n",
    "linear_fit(merge_undergrads_only, 'Fitting_Param_k', 'Stress', False, 'UndergradsOnly', 5)\n",
    "linear_fit(merge_undergrads_only, 'Fitting_Param_k', 'Sleep', False, 'UndergradsOnly', 10)\n"
   ]
  },
  {
   "cell_type": "code",
   "execution_count": 20,
   "metadata": {},
   "outputs": [
    {
     "data": {
      "image/png": "[encoded data removed]",
      "text/plain": [
       "<Figure size 432x288 with 1 Axes>"
      ]
     },
     "metadata": {
      "needs_background": "light"
     },
     "output_type": "display_data"
    }
   ],
   "source": [
    "# Create plots corresponding to the condition that the participant spends more than 50% \n",
    "# of their monthly income on Essentials\n",
    "merge_high_essential_demand = merge_without_outliers[merge_without_outliers['Essentials'] > 0.5]\n",
    "create_plots_fits(merge_high_essential_demand, False, 'HighEssentialDemand')\n",
    "linear_fit(merge_high_essential_demand, 'Fitting_Param_k', 'Happiness', False, 'HighEssentialDemand', 5)\n",
    "linear_fit(merge_high_essential_demand, 'Fitting_Param_k', 'Stress', False, 'HighEssentialDemand', 5)\n",
    "linear_fit(merge_high_essential_demand, 'Fitting_Param_k', 'Sleep', False, 'HighEssentialDemand', 10)\n",
    "\n",
    "\n"
   ]
  },
  {
   "cell_type": "code",
   "execution_count": 22,
   "metadata": {},
   "outputs": [
    {
     "data": {
      "image/png": "[encoded data removed]",
      "text/plain": [
       "<Figure size 432x288 with 1 Axes>"
      ]
     },
     "metadata": {
      "needs_background": "light"
     },
     "output_type": "display_data"
    }
   ],
   "source": [
    "# Create plots corresponding to the condition that the participant spends more than 10% \n",
    "# of their monthly income on leisure activities\n",
    "merge_high_leisure = merge_without_outliers[merge_without_outliers['Leisure'] > 0.1]\n",
    "create_plots_fits(merge_high_leisure, False, 'HighLeisure')\n",
    "linear_fit(merge_high_leisure, 'Fitting_Param_k', 'Happiness', False, 'HigherLeisureExpense', 5)\n",
    "linear_fit(merge_high_leisure, 'Fitting_Param_k', 'Stress', False, 'HigherLeisureExpense', 5)\n",
    "linear_fit(merge_high_leisure, 'Fitting_Param_k', 'Sleep', False, 'HigherLeisureExpense', 10)\n",
    "\n",
    "\n",
    "\n"
   ]
  },
  {
   "cell_type": "code",
   "execution_count": 24,
   "metadata": {},
   "outputs": [],
   "source": [
    "measure = merge['Fitting_Param_k']"
   ]
  },
  {
   "cell_type": "code",
   "execution_count": 35,
   "metadata": {},
   "outputs": [],
   "source": [
    "# Feature columns that may cause variation or clustering of calculated k-parameters\n",
    "feature_columns = ['Age', 'Essentials', 'Happiness', 'Investments', 'Leisure',\n",
    "       'Sleep', 'Stress']"
   ]
  },
  {
   "cell_type": "code",
   "execution_count": 36,
   "metadata": {},
   "outputs": [
    {
     "name": "stdout",
     "output_type": "stream",
     "text": [
      "Column: Age\t Corr: 0.1971588481148041 \tP-Val0.6717599408697906\n",
      "Column: Essentials\t Corr: 0.2837488706075032 \tP-Val0.5374484013576115\n",
      "Column: Happiness\t Corr: -0.42712174135521547 \tP-Val0.3391855587466984\n",
      "Column: Investments\t Corr: 0.2284894124409878 \tP-Val0.6221500460590541\n",
      "Column: Leisure\t Corr: -0.23265394515208926 \tP-Val0.6156363600493444\n",
      "Column: Sleep\t Corr: 0.3294194516132418 \tP-Val0.47060322124716714\n",
      "Column: Stress\t Corr: 0.1683937529723998 \tP-Val0.7181617757488201\n"
     ]
    }
   ],
   "source": [
    "# The Pearson-correlation coefficients are calculated \n",
    "# Associated p-values are reported\n",
    "# As expected, the results are not significant since we are dealing with very few participants\n",
    "import scipy.stats\n",
    "for col in feature_columns:\n",
    "    merge_without_outliers = merge_without_outliers.dropna(subset = [col])\n",
    "    corr, p_val = scipy.stats.pearsonr(merge_without_outliers['Fitting_Param_k'], merge_without_outliers[col])\n",
    "    print(\"Column: {}\\t Corr: {} \\tP-Val{}\".format(col, corr, p_val))"
   ]
  }
 ],
 "metadata": {
  "kernelspec": {
   "display_name": "Python 3",
   "language": "python",
   "name": "python3"
  },
  "language_info": {
   "codemirror_mode": {
    "name": "ipython",
    "version": 3
   },
   "file_extension": ".py",
   "mimetype": "text/x-python",
   "name": "python",
   "nbconvert_exporter": "python",
   "pygments_lexer": "ipython3",
   "version": "3.7.4"
  }
 },
 "nbformat": 4,
 "nbformat_minor": 2
}
